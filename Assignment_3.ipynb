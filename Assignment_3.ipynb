{
 "cells": [
  {
   "cell_type": "markdown",
   "metadata": {},
   "source": [
    "1.1 Write a Python Program to implement your own myreduce() function which works exactly\n",
    "like Python's built-in function reduce()"
   ]
  },
  {
   "cell_type": "code",
   "execution_count": 1,
   "metadata": {},
   "outputs": [
    {
     "name": "stdout",
     "output_type": "stream",
     "text": [
      "Sum of the list elements:  10.2\n",
      "concatenation  of list element: sdfssdfsfsdfsdf\n",
      "Sum of list elments:  10.2\n",
      "maximum element of list: 34\n"
     ]
    }
   ],
   "source": [
    "def myReduce(function,sequence):\n",
    "    \n",
    "# takes two arguments and return a value as per passed function\n",
    "# List element must be homogeneous  \n",
    "\n",
    "    if (type(sequence[0]) is int or  type(sequence[0]) is float) : # initialize return value as per list first element\n",
    "        element_af_function = 0\n",
    "    else:\n",
    "        element_af_function = ''\n",
    "\n",
    "    for element in sequence:\n",
    "        if type(element) is int:\n",
    "            element_af_function =  function(element_af_function,element)\n",
    "        else:\n",
    "            element_af_function =  function(element_af_function,element)\n",
    "            \n",
    "    return element_af_function\n",
    "\n",
    "\n",
    "def sum_numbers(a,b):\n",
    "# local function return sum of two numbers\n",
    "    return a+b\n",
    "\n",
    "l = [1.2,2,3,4] # list of flot numbers\n",
    "\n",
    "print(\"Sum of the list elements: \", myReduce(sum_numbers,l))\n",
    "\n",
    "listOfString =['sdfs','sdfsfsdf','sdf'] # list of string\n",
    "\n",
    "print(\"concatenation  of list element:\", myReduce(lambda a,b: a+b,listOfString))\n",
    "\n",
    "\n",
    "mylist = [1.2,2,3,4] # list of flot numbers\n",
    "\n",
    "print(\"Sum of list elments: \",myReduce(lambda a,b: a+b,mylist))\n",
    "\n",
    "mylist1 =[13,2,34] # list of integers\n",
    "\n",
    "max_find = lambda a,b: a if (a > b) else b\n",
    "print(\"maximum element of list:\",myReduce(max_find,mylist1))\n"
   ]
  },
  {
   "cell_type": "markdown",
   "metadata": {},
   "source": [
    "1.2 Write a Python program to implement your own myfilter() function which works exactly\n",
    "like Python's built-in function filter()"
   ]
  },
  {
   "cell_type": "code",
   "execution_count": 2,
   "metadata": {},
   "outputs": [
    {
     "name": "stdout",
     "output_type": "stream",
     "text": [
      "Orignal list: [1.2, 2, 3, 4]\n",
      "List of even numbers: [2, 4]\n",
      "Orignal list: [12, 2, 3, 4, 6]\n",
      "List of odd numbers: [3]\n",
      "Orignal years of list: [2000, 2001, 2004, 1900, 2020]\n",
      "List of leap years: [2000, 2004, 1900, 2020]\n"
     ]
    }
   ],
   "source": [
    "def myFilter(function,sequence):\n",
    "    \n",
    "# takes two arguments and return filtered list of items based on passed method\n",
    "# List element must be homogeneous  \n",
    "\n",
    "    for element in sequence:  \n",
    "        if (function(element)):\n",
    "            yield(element)\n",
    "            \n",
    "def even_check(num):\n",
    "    if num%2 ==0:\n",
    "        return True\n",
    "\n",
    "l = [1.2,2,3,4]\n",
    "\n",
    "#list of even numbers\n",
    "print(\"Orignal list:\",l)\n",
    "print(\"List of even numbers:\", list(myFilter(even_check,l)))\n",
    "\n",
    "l = [12,2,3,4,6]\n",
    "\n",
    " #list of odd numbers\n",
    "print(\"Orignal list:\",l)\n",
    "print(\"List of odd numbers:\",list(myFilter(lambda x:x%2!=0,l)))\n",
    "\n",
    "listOfyear =[2000,2001,2004,1900,2020]\n",
    "print(\"Orignal years of list:\",listOfyear)\n",
    "print(\"List of leap years:\",list(myFilter(lambda x:(x%4==0 and (x%100==0 or x%100!=0)) ,listOfyear)))\n"
   ]
  },
  {
   "cell_type": "markdown",
   "metadata": {},
   "source": [
    "2. Implement List comprehensions to produce the following lists.\n",
    "Write List comprehensions to produce the following Lists"
   ]
  },
  {
   "cell_type": "markdown",
   "metadata": {},
   "source": [
    "['x', 'xx', 'xxx', 'xxxx', 'y', 'yy', 'yyy', 'yyyy', 'z', 'zz', 'zzz', 'zzzz']"
   ]
  },
  {
   "cell_type": "code",
   "execution_count": 17,
   "metadata": {},
   "outputs": [
    {
     "data": {
      "text/plain": [
       "['X', 'XX', 'XXX', 'XXXX', 'Y', 'YY', 'YYY', 'YYYY', 'Z', 'ZZ', 'ZZZ', 'ZZZZ']"
      ]
     },
     "execution_count": 17,
     "metadata": {},
     "output_type": "execute_result"
    }
   ],
   "source": [
    "List_Str = ['X','Y','Z']\n",
    "[element * i for element in List_Str  for i in range(1,5)]\n",
    "    "
   ]
  },
  {
   "cell_type": "markdown",
   "metadata": {},
   "source": [
    "['x', 'y', 'z', 'xx', 'yy', 'zz', 'xxx', 'yyy', 'zzz', 'xxxx', 'yyyy', 'zzzz']"
   ]
  },
  {
   "cell_type": "code",
   "execution_count": 18,
   "metadata": {},
   "outputs": [
    {
     "data": {
      "text/plain": [
       "['X', 'Y', 'Z', 'XX', 'YY', 'ZZ', 'XXX', 'YYY', 'ZZZ', 'XXXX', 'YYYY', 'ZZZZ']"
      ]
     },
     "execution_count": 18,
     "metadata": {},
     "output_type": "execute_result"
    }
   ],
   "source": [
    "List_Str = ['X','Y','Z']\n",
    "[element*i  for i in range(1,5) for element in List_Str  ]"
   ]
  },
  {
   "cell_type": "markdown",
   "metadata": {},
   "source": [
    "[[2], [3], [4], [3], [4], [5], [4], [5], [6]]\n"
   ]
  },
  {
   "cell_type": "code",
   "execution_count": 23,
   "metadata": {},
   "outputs": [
    {
     "data": {
      "text/plain": [
       "[[2], [3], [4], [3], [4], [5], [4], [5], [6]]"
      ]
     },
     "execution_count": 23,
     "metadata": {},
     "output_type": "execute_result"
    }
   ],
   "source": [
    "l = [2,3,4]\n",
    "[ [element+i] for i in range(3)  for element in l]"
   ]
  },
  {
   "cell_type": "markdown",
   "metadata": {},
   "source": [
    "[[2, 3, 4, 5], [3, 4, 5, 6],\n",
    "[4, 5, 6, 7], [5, 6, 7, 8]]"
   ]
  },
  {
   "cell_type": "code",
   "execution_count": 24,
   "metadata": {},
   "outputs": [
    {
     "data": {
      "text/plain": [
       "[[2, 3, 4, 5], [3, 4, 5, 6], [4, 5, 6, 7], [5, 6, 7, 8]]"
      ]
     },
     "execution_count": 24,
     "metadata": {},
     "output_type": "execute_result"
    }
   ],
   "source": [
    "l = [2,3,4,5]\n",
    "[ [element+col for col in l] for element in range(4)]"
   ]
  },
  {
   "cell_type": "markdown",
   "metadata": {},
   "source": [
    "[(1, 1), (2, 1), (3, 1), (1, 2), (2, 2), (3, 2), (1, 3), (2, 3), (3, 3)]"
   ]
  },
  {
   "cell_type": "code",
   "execution_count": 25,
   "metadata": {},
   "outputs": [
    {
     "data": {
      "text/plain": [
       "[(1, 1), (2, 1), (3, 1), (1, 2), (2, 2), (3, 2), (1, 3), (2, 3), (3, 3)]"
      ]
     },
     "execution_count": 25,
     "metadata": {},
     "output_type": "execute_result"
    }
   ],
   "source": [
    "l =[1,2,3]\n",
    "[(row,col) for col in l for row in range(1,4)]"
   ]
  },
  {
   "cell_type": "code",
   "execution_count": null,
   "metadata": {},
   "outputs": [],
   "source": []
  }
 ],
 "metadata": {
  "kernelspec": {
   "display_name": "Python 3",
   "language": "python",
   "name": "python3"
  },
  "language_info": {
   "codemirror_mode": {
    "name": "ipython",
    "version": 3
   },
   "file_extension": ".py",
   "mimetype": "text/x-python",
   "name": "python",
   "nbconvert_exporter": "python",
   "pygments_lexer": "ipython3",
   "version": "3.7.6"
  }
 },
 "nbformat": 4,
 "nbformat_minor": 2
}
