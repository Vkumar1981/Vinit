{
 "cells": [
  {
   "cell_type": "markdown",
   "metadata": {},
   "source": [
    "1.1 Write a Python Program(with class concepts) to find the area of the triangle using the below\n",
    "formula.\n",
    "area = (s*(s-a)*(s-b)*(s-c)) ** 0.5\n",
    "Function to take the length of the sides of triangle from user should be defined in the parent\n",
    "class and function to calculate the area should be defined in subclass."
   ]
  },
  {
   "cell_type": "code",
   "execution_count": 2,
   "metadata": {},
   "outputs": [
    {
     "name": "stdout",
     "output_type": "stream",
     "text": [
      "area of triangle : 2.9047375096555625\n"
     ]
    }
   ],
   "source": [
    "class triangle:\n",
    "\n",
    "    def __init__(self,side_1,side_2,side_3):\n",
    "        self.side_1 = side_1\n",
    "        self.side_2 = side_2\n",
    "        self.side_3 =side_3\n",
    "        self.s= (self.side_1 + self.side_2 + self.side_3)/2\n",
    "\n",
    "        \n",
    "class triangle_operation(triangle):\n",
    "\n",
    "    def __init_(self,side_1,side_2,side_3):\n",
    "        super().__init__(side_1,side_2,side_3)\n",
    "        \n",
    "    def calculate_area(self):\n",
    "        #furmula (s*(s-a)*(s-b)*(s-c)) ** 0.5\n",
    "        return (self.s*(self.s-self.side_1)*(self.s-self.side_2)*(self.s-self.side_3)) ** 0.5\n",
    "    \n",
    "obj = triangle_operation(2,3,4)\n",
    "print(\"area of triangle :\", obj.calculate_area())"
   ]
  },
  {
   "cell_type": "markdown",
   "metadata": {},
   "source": [
    "1.2 Write a function filter_long_words() that takes a list of words and an integer n and returns\n",
    "the list of words that are longer than n."
   ]
  },
  {
   "cell_type": "code",
   "execution_count": 3,
   "metadata": {},
   "outputs": [
    {
     "data": {
      "text/plain": [
       "['Bonjour', 'Namaste', 'Good monring', 'Good Evening', 'bonsoir', 'bonne nuit']"
      ]
     },
     "execution_count": 3,
     "metadata": {},
     "output_type": "execute_result"
    }
   ],
   "source": [
    "def filter_long_words(no_of_words,sequence):\n",
    "# takes two element, List of strings and length of words fields\n",
    "\n",
    "    for element in sequence:\n",
    "        if len(element)>no_of_words:\n",
    "            yield(element)\n",
    "            \n",
    "greetings  = ['Hello','Hola','Bonjour','Namaste','Good monring','Good Evening','bonsoir','bonne nuit']\n",
    "\n",
    "# filtered list\n",
    "list(filter_long_words(5,greetings)) "
   ]
  },
  {
   "cell_type": "markdown",
   "metadata": {},
   "source": [
    "2.1 Write a Python program using function concept that maps list of words into a list of integers\n",
    "representing the lengths of the corresponding words.\n",
    "Hint: If a list [ ab,cde,erty] is passed on to the python function output should come as [2,3,4]\n",
    "Here 2,3 and 4 are the lengths of the words in the list."
   ]
  },
  {
   "cell_type": "code",
   "execution_count": 4,
   "metadata": {},
   "outputs": [
    {
     "name": "stdout",
     "output_type": "stream",
     "text": [
      "Length of list element:\n"
     ]
    },
    {
     "data": {
      "text/plain": [
       "[5, 4, 7, 7, 12, 12, 7, 10]"
      ]
     },
     "execution_count": 4,
     "metadata": {},
     "output_type": "execute_result"
    }
   ],
   "source": [
    "def words_len_measure(list_of_words):\n",
    "    for element in list_of_words:\n",
    "        yield(len(element))\n",
    "\n",
    "greetings  = ['Hello','Hola','Bonjour','Namaste','Good monring','Good Evening','bonsoir','bonne nuit']\n",
    "print(\"Length of list element:\")\n",
    "list(words_len_measure(greetings))"
   ]
  },
  {
   "cell_type": "markdown",
   "metadata": {},
   "source": [
    "2.2 Write a Python function which takes a character (i.e. a string of length 1) and returns True if\n",
    "it is a vowel, False otherwise."
   ]
  },
  {
   "cell_type": "code",
   "execution_count": 5,
   "metadata": {},
   "outputs": [
    {
     "name": "stdout",
     "output_type": "stream",
     "text": [
      "Please input a charcter:a\n",
      "True\n"
     ]
    }
   ],
   "source": [
    "def isvowel(charcter):\n",
    "# return True if passed charcter is volwel\n",
    "\n",
    "    Condition =False\n",
    "\n",
    "    List_of_Vowels = ['A','E','I','O','U']\n",
    "    \n",
    "    if(charcter.upper() in List_of_Vowels):\n",
    "        Condition =True\n",
    "        \n",
    "    return Condition\n",
    "\n",
    "InputCharcter = input(\"Please input a charcter:\")\n",
    "\n",
    "if(len(InputCharcter)!=1):\n",
    "    print(\"Wrong input\")\n",
    "else:\n",
    "    print(isvowel(InputCharcter))"
   ]
  },
  {
   "cell_type": "code",
   "execution_count": null,
   "metadata": {},
   "outputs": [],
   "source": []
  }
 ],
 "metadata": {
  "kernelspec": {
   "display_name": "Python 3",
   "language": "python",
   "name": "python3"
  },
  "language_info": {
   "codemirror_mode": {
    "name": "ipython",
    "version": 3
   },
   "file_extension": ".py",
   "mimetype": "text/x-python",
   "name": "python",
   "nbconvert_exporter": "python",
   "pygments_lexer": "ipython3",
   "version": "3.7.6"
  }
 },
 "nbformat": 4,
 "nbformat_minor": 2
}
