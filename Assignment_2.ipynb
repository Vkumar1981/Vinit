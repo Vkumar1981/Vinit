{
 "cells": [
  {
   "cell_type": "markdown",
   "metadata": {},
   "source": [
    "1. Create the below pattern using nested for loop in Python."
   ]
  },
  {
   "cell_type": "code",
   "execution_count": 6,
   "metadata": {},
   "outputs": [
    {
     "name": "stdout",
     "output_type": "stream",
     "text": [
      "*\n",
      "**\n",
      "***\n",
      "****\n",
      "*****\n",
      "******\n",
      "*****\n",
      "****\n",
      "***\n",
      "**\n"
     ]
    }
   ],
   "source": [
    "\n",
    "row = 10 # Total Number of row\n",
    "rowcounter = 0 # Row Counter\n",
    "ColCounter = 0 # Col Counter\n",
    "ColCounterUperLimit = 0 # Col Counter upper Limit\n",
    "StringOfStar = \"\"\n",
    "\n",
    "while rowcounter < row: #row Loop start\n",
    "    ColCounter = 0\n",
    "    ColCounterUperLimit = 0\n",
    "    StringOfStar = \"\"\n",
    "\n",
    "    if rowcounter >= row/2:\n",
    "        ColCounterUperLimit = row - rowcounter\n",
    "    else:\n",
    "        ColCounterUperLimit = rowcounter\n",
    "        \n",
    "    while ColCounter <= ColCounterUperLimit: #Column Loop Start\n",
    "        StringOfStar += \"*\"\n",
    "        ColCounter +=  1 # Column Loop End\n",
    "    print(StringOfStar)\n",
    "    rowcounter +=  1 #row Loop End"
   ]
  },
  {
   "cell_type": "markdown",
   "metadata": {},
   "source": [
    "2. Write a Python program to reverse a word after accepting the input from the user."
   ]
  },
  {
   "cell_type": "code",
   "execution_count": 7,
   "metadata": {},
   "outputs": [
    {
     "name": "stdout",
     "output_type": "stream",
     "text": [
      "Input a wordineuron\n",
      "norueni\n"
     ]
    }
   ],
   "source": [
    "word = input(\"Input a word\")\n",
    "print(word[::-1]) #print in reverse order"
   ]
  },
  {
   "cell_type": "code",
   "execution_count": null,
   "metadata": {},
   "outputs": [],
   "source": []
  }
 ],
 "metadata": {
  "kernelspec": {
   "display_name": "Python 3",
   "language": "python",
   "name": "python3"
  },
  "language_info": {
   "codemirror_mode": {
    "name": "ipython",
    "version": 3
   },
   "file_extension": ".py",
   "mimetype": "text/x-python",
   "name": "python",
   "nbconvert_exporter": "python",
   "pygments_lexer": "ipython3",
   "version": "3.7.6"
  }
 },
 "nbformat": 4,
 "nbformat_minor": 2
}
