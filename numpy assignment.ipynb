{
 "cells": [
  {
   "cell_type": "markdown",
   "metadata": {},
   "source": [
    "Write a function so that the columns of the output matrix are powers of the input\n",
    "vector.\n",
    "The order of the powers is determined by the increasing boolean argument. Specifically, when\n",
    "increasing is False, the i-th output column is the input vector raised element-wise to the power\n",
    "of N - i - 1.\n",
    "HINT: Such a matrix with a geometric progression in each row is named for Alexandre-\n",
    "Theophile Vandermonde."
   ]
  },
  {
   "cell_type": "code",
   "execution_count": 27,
   "metadata": {},
   "outputs": [
    {
     "name": "stdout",
     "output_type": "stream",
     "text": [
      "Vander Matrix input_Vecotr: [1 2 3 4 5] No of column:3 & increasing:False\n",
      "[[ 1  1  1]\n",
      " [ 4  2  1]\n",
      " [ 9  3  1]\n",
      " [16  4  1]\n",
      " [25  5  1]]\n",
      "Vander Matrix input_Vecotr: [1 2 3 4 5] No of column:3 & increasing:True\n",
      "[[ 1  1  1]\n",
      " [ 1  2  4]\n",
      " [ 1  3  9]\n",
      " [ 1  4 16]\n",
      " [ 1  5 25]]\n",
      "Vander Matrix input_Vecotr: [1 2 3 4 5] No of column:5 & increasing:False\n",
      "[[  1   1   1   1   1]\n",
      " [ 16   8   4   2   1]\n",
      " [ 81  27   9   3   1]\n",
      " [256  64  16   4   1]\n",
      " [625 125  25   5   1]]\n",
      "Vander Matrix input_Vecotr: [1 2 3 4 5] No of column:5 & increasing:True\n",
      "[[  1   1   1   1   1]\n",
      " [  1   2   4   8  16]\n",
      " [  1   3   9  27  81]\n",
      " [  1   4  16  64 256]\n",
      " [  1   5  25 125 625]]\n"
     ]
    }
   ],
   "source": [
    "import numpy as np\n",
    "\n",
    "# function generate a Vander Matrix\n",
    "# i_vec : vector, N: Number of Columns, increasing : Define order of powers   \n",
    "\n",
    "def my_vander_Matrix(i_vec, N, increasing=False):\n",
    "\n",
    "    if increasing:\n",
    "        my_matrix = np.array([x**i for x in i_vec for i in range(N)]).reshape(i_vec.size,N)\n",
    "    else:\n",
    "        my_matrix = np.array([x**(N-1-i) for x in i_vec for i in range(N)]).reshape(i_vec.size,N)\n",
    "    \n",
    "    return my_matrix\n",
    "\n",
    "\n",
    "input_Vector = np.array([1,2,3,4,5])\n",
    "No_of_Column = 3\n",
    "increasing = False\n",
    "\n",
    "output_Matrix = my_vander_Matrix(input_Vector,No_of_Column,False)\n",
    "print(\"Vander Matrix input_Vecotr: {0} No of column:{1} & increasing:{2}\".format(input_Vector,No_of_Column,increasing))\n",
    "print(output_Matrix)\n",
    "\n",
    "increasing = True\n",
    "output_Matrix = my_vander_Matrix(input_Vector,No_of_Column,True)\n",
    "print(\"Vander Matrix input_Vecotr: {0} No of column:{1} & increasing:{2}\".format(input_Vector,No_of_Column,increasing))\n",
    "print(output_Matrix)\n",
    "\n",
    "No_of_Column = 5\n",
    "increasing = False\n",
    "\n",
    "output_Matrix = my_vander_Matrix(input_Vector,No_of_Column,False)\n",
    "print(\"Vander Matrix input_Vecotr: {0} No of column:{1} & increasing:{2}\".format(input_Vector,No_of_Column,increasing))\n",
    "print(output_Matrix)\n",
    "\n",
    "increasing = True\n",
    "output_Matrix = my_vander_Matrix(input_Vector,No_of_Column,True)\n",
    "print(\"Vander Matrix input_Vecotr: {0} No of column:{1} & increasing:{2}\".format(input_Vector,No_of_Column,increasing))\n",
    "print(output_Matrix)\n"
   ]
  },
  {
   "cell_type": "markdown",
   "metadata": {},
   "source": [
    "Given a sequence of n values x1, x2, ..., xn and a window size k>0, the k-th moving average of\n",
    "the given sequence is defined as follows:\n",
    "The moving average sequence has n-k+1 elements as shown below.\n",
    "The moving averages with k=4 of a ten-value sequence (n=10) is shown below\n",
    "i 1 2 3 4 5 6 7 8 9 10\n",
    "===== == == == == == == == == == ==\n",
    "Input 10 20 30 40 50 60 70 80 90 100\n",
    "y1 25 = (10+20+30+40)/4\n",
    "y2 35 = (20+30+40+50)/4\n",
    "y3 45 = (30+40+50+60)/4\n",
    "y4 55 = (40+50+60+70)/4\n",
    "y5 65 = (50+60+70+80)/4\n",
    "y6 75 = (60+70+80+90)/4\n",
    "y7 85 = (70+80+90+100)/4\n",
    "Thus, the moving average sequence has n-k+1=10-4+1=7 values.\n",
    "Question: Write a function to find moving average in an array over a window:\n",
    "Test it over [3, 5, 7, 2, 8, 10, 11, 65, 72, 81, 99, 100, 150] and window of 3."
   ]
  },
  {
   "cell_type": "code",
   "execution_count": 26,
   "metadata": {},
   "outputs": [
    {
     "name": "stdout",
     "output_type": "stream",
     "text": [
      "Input array: [  3   5   7   2   8  10  11  65  72  81  99 100 150] window size :3\n",
      "Moving average :\n",
      "[  5.           4.66666667   5.66666667   6.66666667   9.66666667\n",
      "  28.66666667  49.33333333  72.66666667  84.          93.33333333\n",
      " 116.33333333]\n"
     ]
    }
   ],
   "source": [
    "# function generate a moving average sequence\n",
    "# i_Sequence : Input sequence, \n",
    "# window_size: window size k>0, the k-th moving average of the input sequence   \n",
    "\n",
    "def moving_avg_sequence(i_Sequence, window_size=0):\n",
    "    try :\n",
    "        if window_size > 0:\n",
    "\n",
    "            row = i_Sequence.size - window_size + 1 #  moving average sequence total values   \n",
    "            my_matrix = np.array([i_Sequence[i+x] for x in range(row) for i in range(window_size)]).reshape(row,window_size)\n",
    "            out_moving_avg_sequence = np.sum(my_matrix,axis = 1)/window_size\n",
    "            return out_moving_avg_sequence\n",
    "        else:\n",
    "            print(\"Window size must be zero!\")\n",
    "    \n",
    "    except :\n",
    "         print(\"Unexpected error:\", sys.exc_info()[0])\n",
    "\n",
    "            \n",
    "my_array = np.array([3, 5, 7, 2, 8, 10, 11, 65, 72, 81, 99, 100, 150])\n",
    "window_size = 3\n",
    "print(\"Input array: {0} window size :{1}\".format(my_array,window_size))\n",
    "print(\"Moving average :\")\n",
    "\n",
    "print(moving_avg_sequence(my_array,window_size))\n",
    "\n",
    "    "
   ]
  },
  {
   "cell_type": "code",
   "execution_count": null,
   "metadata": {},
   "outputs": [],
   "source": []
  },
  {
   "cell_type": "code",
   "execution_count": null,
   "metadata": {},
   "outputs": [],
   "source": []
  }
 ],
 "metadata": {
  "kernelspec": {
   "display_name": "Python 3",
   "language": "python",
   "name": "python3"
  },
  "language_info": {
   "codemirror_mode": {
    "name": "ipython",
    "version": 3
   },
   "file_extension": ".py",
   "mimetype": "text/x-python",
   "name": "python",
   "nbconvert_exporter": "python",
   "pygments_lexer": "ipython3",
   "version": "3.7.6"
  }
 },
 "nbformat": 4,
 "nbformat_minor": 2
}
