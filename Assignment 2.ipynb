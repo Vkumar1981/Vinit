{
 "cells": [
  {
   "cell_type": "markdown",
   "metadata": {},
   "source": [
    "# Task 1:"
   ]
  },
  {
   "cell_type": "markdown",
   "metadata": {},
   "source": [
    "Question: 1.1"
   ]
  },
  {
   "cell_type": "code",
   "execution_count": 5,
   "metadata": {},
   "outputs": [
    {
     "name": "stdout",
     "output_type": "stream",
     "text": [
      "Sum of the list elements:  10.2\n",
      "concatenation  of list element: sdfssdfsfsdfsdf\n",
      "Sum of list elments:  10.2\n",
      "maximum element of list: 34\n"
     ]
    }
   ],
   "source": [
    "def myReduce(function,sequence):\n",
    "    \n",
    "# takes two arguments and return a value as per passed function\n",
    "# List element must be homogeneous  \n",
    "\n",
    "    if (type(sequence[0]) is int or  type(sequence[0]) is float) : # initialize return value as per list first element\n",
    "        element_af_function = 0\n",
    "    else:\n",
    "        element_af_function = ''\n",
    "\n",
    "    for element in sequence:\n",
    "        if type(element) is int:\n",
    "            element_af_function =  function(element_af_function,element)\n",
    "        else:\n",
    "            element_af_function =  function(element_af_function,element)\n",
    "            \n",
    "    return element_af_function\n",
    "\n",
    "\n",
    "def sum_numbers(a,b):\n",
    "# local function return sum of two numbers\n",
    "    return a+b\n",
    "\n",
    "l = [1.2,2,3,4] # list of flot numbers\n",
    "\n",
    "print(\"Sum of the list elements: \", myReduce(sum_numbers,l))\n",
    "\n",
    "listOfString =['sdfs','sdfsfsdf','sdf'] # list of string\n",
    "\n",
    "print(\"concatenation  of list element:\", myReduce(lambda a,b: a+b,listOfString))\n",
    "\n",
    "\n",
    "mylist = [1.2,2,3,4] # list of flot numbers\n",
    "\n",
    "print(\"Sum of list elments: \",myReduce(lambda a,b: a+b,mylist))\n",
    "\n",
    "mylist1 =[13,2,34] # list of integers\n",
    "\n",
    "max_find = lambda a,b: a if (a > b) else b\n",
    "print(\"maximum element of list:\",myReduce(max_find,mylist1))\n"
   ]
  },
  {
   "cell_type": "markdown",
   "metadata": {},
   "source": [
    "Question: 1.2"
   ]
  },
  {
   "cell_type": "code",
   "execution_count": 10,
   "metadata": {},
   "outputs": [
    {
     "name": "stdout",
     "output_type": "stream",
     "text": [
      "Orignal list: [1.2, 2, 3, 4]\n",
      "List of even numbers: [2, 4]\n",
      "Orignal list: [12, 2, 3, 4, 6]\n",
      "List of odd numbers: [3]\n",
      "Orignal years of list: [2000, 2001, 2004, 1900, 2020]\n",
      "List of leap years: [2000, 2004, 1900, 2020]\n"
     ]
    }
   ],
   "source": [
    "def myFilter(function,sequence):\n",
    "    \n",
    "# takes two arguments and return filtered list of items based on passed method\n",
    "# List element must be homogeneous  \n",
    "\n",
    "    for element in sequence:  \n",
    "        if (function(element)):\n",
    "            yield(element)\n",
    "            \n",
    "def even_check(num):\n",
    "    if num%2 ==0:\n",
    "        return True\n",
    "\n",
    "l = [1.2,2,3,4]\n",
    "\n",
    "#list of even numbers\n",
    "print(\"Orignal list:\",l)\n",
    "print(\"List of even numbers:\", list(myFilter(even_check,l)))\n",
    "\n",
    "l = [12,2,3,4,6]\n",
    "\n",
    " #list of odd numbers\n",
    "print(\"Orignal list:\",l)\n",
    "print(\"List of odd numbers:\",list(myFilter(lambda x:x%2!=0,l)))\n",
    "\n",
    "listOfyear =[2000,2001,2004,1900,2020]\n",
    "print(\"Orignal years of list:\",listOfyear)\n",
    "print(\"List of leap years:\",list(myFilter(lambda x:(x%4==0 and (x%100==0 or x%100!=0)) ,listOfyear)))\n"
   ]
  },
  {
   "cell_type": "markdown",
   "metadata": {},
   "source": [
    "Question 2. Implement List comprehensions to produce the following lists"
   ]
  },
  {
   "cell_type": "code",
   "execution_count": 11,
   "metadata": {},
   "outputs": [
    {
     "data": {
      "text/plain": [
       "['A', 'B', 'C', 'D', 'G', 'I', 'L', 'D']"
      ]
     },
     "execution_count": 11,
     "metadata": {},
     "output_type": "execute_result"
    }
   ],
   "source": [
    "matrix = [['A','B','C','D'],['G','I','L','D']]\n",
    "\n",
    "[val for sublist in matrix for val in sublist]\n"
   ]
  },
  {
   "cell_type": "code",
   "execution_count": 12,
   "metadata": {},
   "outputs": [
    {
     "data": {
      "text/plain": [
       "['X', 'XX', 'XXX', 'XXXX', 'Y', 'YY', 'YYY', 'YYYY', 'Z', 'ZZ', 'ZZZ', 'ZZZZ']"
      ]
     },
     "execution_count": 12,
     "metadata": {},
     "output_type": "execute_result"
    }
   ],
   "source": [
    "List_Str = ['X','Y','Z']\n",
    "[row * i for row in List_Str  for i in range(1,5)]\n"
   ]
  },
  {
   "cell_type": "code",
   "execution_count": 13,
   "metadata": {},
   "outputs": [
    {
     "data": {
      "text/plain": [
       "['X', 'Y', 'Z', 'XX', 'YY', 'ZZ', 'XX', 'YY', 'ZZ', 'XXXX', 'YYYY', 'ZZZZ']"
      ]
     },
     "execution_count": 13,
     "metadata": {},
     "output_type": "execute_result"
    }
   ],
   "source": [
    "List_Str = ['X','Y','Z']\n",
    "[row * (x-1 if x % 2 != 0 and x != 1 else x) for x in range(1,5) for row in List_Str]\n"
   ]
  },
  {
   "cell_type": "code",
   "execution_count": 14,
   "metadata": {},
   "outputs": [
    {
     "data": {
      "text/plain": [
       "[[2], [3], [4], [3], [4], [5], [4], [5], [6]]"
      ]
     },
     "execution_count": 14,
     "metadata": {},
     "output_type": "execute_result"
    }
   ],
   "source": [
    "l = [2,3,4]\n",
    "[ [row+i] for i in range(3)  for row in l]"
   ]
  },
  {
   "cell_type": "code",
   "execution_count": 15,
   "metadata": {},
   "outputs": [
    {
     "data": {
      "text/plain": [
       "[[2, 3, 4, 5], [3, 4, 5, 6], [4, 5, 6, 7], [5, 6, 7, 8]]"
      ]
     },
     "execution_count": 15,
     "metadata": {},
     "output_type": "execute_result"
    }
   ],
   "source": [
    "l = [2,3,4,5]\n",
    "[ [row+col for col in l] for row in range(4)]"
   ]
  },
  {
   "cell_type": "code",
   "execution_count": 16,
   "metadata": {},
   "outputs": [
    {
     "data": {
      "text/plain": [
       "[(1, 1), (2, 1), (3, 1), (1, 2), (2, 2), (3, 2), (1, 3), (2, 3), (3, 3)]"
      ]
     },
     "execution_count": 16,
     "metadata": {},
     "output_type": "execute_result"
    }
   ],
   "source": [
    "l =[1,2,3]\n",
    "[(row,col) for col in l for row in range(1,4)]"
   ]
  },
  {
   "cell_type": "markdown",
   "metadata": {},
   "source": [
    "Question 3. Implement a function longestWord() that takes a list of words and returns the longest one."
   ]
  },
  {
   "cell_type": "code",
   "execution_count": 19,
   "metadata": {},
   "outputs": [
    {
     "name": "stdout",
     "output_type": "stream",
     "text": [
      "Longest word in list: Danyawaad\n"
     ]
    }
   ],
   "source": [
    "from functools import reduce\n",
    "    \n",
    "def longestWord(listofWords):\n",
    "# take a string of list as a argument and return lognes word from the list\n",
    "    return (reduce(lambda x,y:x if len(x)> len(y) else y,listofWords))\n",
    "\n",
    "gratitude  = ['Thanks','Merci','Gracias','Danyawaad','Sukriya']\n",
    "print(\"Longest word in list:\",longestWord(gratitude))"
   ]
  },
  {
   "cell_type": "markdown",
   "metadata": {},
   "source": [
    "# Task 2:"
   ]
  },
  {
   "cell_type": "markdown",
   "metadata": {},
   "source": [
    "Question 1.1"
   ]
  },
  {
   "cell_type": "code",
   "execution_count": 26,
   "metadata": {},
   "outputs": [
    {
     "name": "stdout",
     "output_type": "stream",
     "text": [
      "input side_1 as a flot number : 0.000000 2\n",
      "input side_2 as a flot number: 0.000000 4\n",
      "input side_3 as a flot number: 0.000000 4.5\n",
      "area of triangle : 3.999511688944039\n"
     ]
    }
   ],
   "source": [
    "class triangle:\n",
    "\n",
    "    def __init__(self):\n",
    "        self.side_1 = 0\n",
    "        self.side_2 = 0\n",
    "        self.side_3 =0\n",
    "        self.s= 0.0\n",
    "        \n",
    "    def inputsides(self):\n",
    " # takes the sides of triangles       \n",
    "        self.side_1  = float(input(\"input side_1 as a flot number : %f \" %self.side_1))\n",
    "        self.side_2  = float(input(\"input side_2 as a flot number: %f \" %self.side_2))\n",
    "        self.side_3  = float(input(\"input side_3 as a flot number: %f \" %self.side_3))\n",
    "        self.s =  (self.side_1 + self.side_2 + self.side_3)/2\n",
    "\n",
    "        \n",
    "class triangle_operation(triangle):\n",
    "\n",
    "    def __init_(self):\n",
    "        super().__init__(self)\n",
    "        \n",
    "    def calculate_area(self):\n",
    "        #furmula (s*(s-a)*(s-b)*(s-c)) ** 0.5\n",
    "        return (self.s*(self.s-self.side_1)*(self.s-self.side_2)*(self.s-self.side_3)) ** 0.5\n",
    "    \n",
    "obj = triangle_operation()\n",
    "obj.inputsides()\n",
    "print(\"area of triangle :\", obj.calculate_area())"
   ]
  },
  {
   "cell_type": "markdown",
   "metadata": {},
   "source": [
    "Question 1.2"
   ]
  },
  {
   "cell_type": "code",
   "execution_count": 27,
   "metadata": {},
   "outputs": [
    {
     "data": {
      "text/plain": [
       "['Bonjour', 'Namaste', 'Good monring', 'Good Evening', 'bonsoir', 'bonne nuit']"
      ]
     },
     "execution_count": 27,
     "metadata": {},
     "output_type": "execute_result"
    }
   ],
   "source": [
    "def filter_long_words(no_of_words,sequence):\n",
    "# takes two element, List of strings and length of words fields\n",
    "\n",
    "    for element in sequence:\n",
    "        if len(element)>no_of_words:\n",
    "            yield(element)\n",
    "            \n",
    "greetings  = ['Hello','Hola','Bonjour','Namaste','Good monring','Good Evening','bonsoir','bonne nuit']\n",
    "\n",
    "# filtered list\n",
    "list(filter_long_words(5,greetings)) "
   ]
  },
  {
   "cell_type": "markdown",
   "metadata": {},
   "source": [
    "Question 2.1"
   ]
  },
  {
   "cell_type": "code",
   "execution_count": 29,
   "metadata": {},
   "outputs": [
    {
     "name": "stdout",
     "output_type": "stream",
     "text": [
      "Length of list element:\n"
     ]
    },
    {
     "data": {
      "text/plain": [
       "[5, 4, 7, 7, 12, 12, 7, 10]"
      ]
     },
     "execution_count": 29,
     "metadata": {},
     "output_type": "execute_result"
    }
   ],
   "source": [
    "def words_len_measure(list_of_words):\n",
    "    for element in list_of_words:\n",
    "        yield(len(element))\n",
    "\n",
    "greetings  = ['Hello','Hola','Bonjour','Namaste','Good monring','Good Evening','bonsoir','bonne nuit']\n",
    "print(\"Length of list element:\")\n",
    "list(words_len_measure(greetings))"
   ]
  },
  {
   "cell_type": "markdown",
   "metadata": {},
   "source": [
    "Question 2.2"
   ]
  },
  {
   "cell_type": "code",
   "execution_count": 30,
   "metadata": {},
   "outputs": [
    {
     "name": "stdout",
     "output_type": "stream",
     "text": [
      "Please input a charcter:x\n",
      "False\n"
     ]
    }
   ],
   "source": [
    "def isvowel(charcter):\n",
    "# return True if passed charcter is volwel\n",
    "\n",
    "    Condition =False\n",
    "\n",
    "    List_of_Vowels = ['A','E','I','O','U']\n",
    "    \n",
    "    if(charcter.upper() in List_of_Vowels):\n",
    "        Condition =True\n",
    "        \n",
    "    return Condition\n",
    "\n",
    "InputCharcter = input(\"Please input a charcter:\")\n",
    "\n",
    "if(len(InputCharcter)!=1):\n",
    "    print(\"Wrong input\")\n",
    "else:\n",
    "    print(isvowel(InputCharcter))\n"
   ]
  },
  {
   "cell_type": "code",
   "execution_count": null,
   "metadata": {},
   "outputs": [],
   "source": []
  }
 ],
 "metadata": {
  "kernelspec": {
   "display_name": "Python 3",
   "language": "python",
   "name": "python3"
  },
  "language_info": {
   "codemirror_mode": {
    "name": "ipython",
    "version": 3
   },
   "file_extension": ".py",
   "mimetype": "text/x-python",
   "name": "python",
   "nbconvert_exporter": "python",
   "pygments_lexer": "ipython3",
   "version": "3.7.6"
  }
 },
 "nbformat": 4,
 "nbformat_minor": 4
}
